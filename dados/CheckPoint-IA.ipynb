{
 "cells": [
  {
   "cell_type": "markdown",
   "metadata": {
    "id": "AsDydV59EnBQ"
   },
   "source": [
    "## Aprendizagem de máquina\n",
    "\n",
    "### Objetivos\n",
    "\n",
    "  - Avaliar os conceitos de aprendizado de maquina aprendidos no curso\n"
   ]
  },
  {
   "cell_type": "markdown",
   "metadata": {
    "id": "_41x3wQMEnBY"
   },
   "source": [
    "# Desafio\n",
    "\n",
    "Você foi contratado por uma empresa inovadora do ramo imobiliario como `QuintoAndar, Loft, Terraz, grupo Zap (ZAP, Viva Real, DataZAP, FipeZAP, SuaHouse, Geoimóvel, Sub100 e Conecta Imobi) ou Imobi Conference`. O seu desafio está no apio à tomada de decisão baseada em dados (empresa data driven). \n",
    "\n",
    "Nesse sentido, use a base de dados **aptos.csv** para realizar a descoberta do conhecimento e responder a pergunta: \n",
    "\n",
    "**`Quanto vale um apartamento de 65m2 com 2 quartos, 2 vagas, reformado no Centro?`**\n"
   ]
  },
  {
   "cell_type": "markdown",
   "metadata": {
    "id": "CTGvPWQZEnBZ"
   },
   "source": [
    "### Orientações\n",
    "\n",
    "Siga as instruções, completando e construindo os algoritmos necessários.\n",
    "\n",
    "Nas celulas` Seu Código aqui...` significa que é necessário realizar a implementação de algum código. Utilize quantos blocos(células) julgar necessário para criar o código.\n",
    "\n",
    "Nas celulas `Responda` significa que é nessário uma resposta clara e objetiva (pode ser por texto, código, gráfico, imagem...) para a pergunta."
   ]
  },
  {
   "cell_type": "markdown",
   "metadata": {
    "id": "XemQnDtgEnBa"
   },
   "source": [
    "## Rubrica para avaliação\n",
    "    \n",
    "Os critérios de avaliação do projeto segue conforme a rubrica.\n",
    "\n",
    "- R1: Exploração de Dados (Até 2 pontos)\n",
    "- R2: Análise Descritiva de Dados (Até 2 pontos)\n",
    "- R3: Desenvolvimento do Modelo (Até 2 pontos)\n",
    "- R4: Treinamento e Teste do Modelo (Até 2 pontos)\n",
    "- R5: Conclusões Finais (Até 2 pontos)\n",
    "\n",
    "**Nota_final = R1 + R2 + R3 + R4 + R5**"
   ]
  },
  {
   "cell_type": "markdown",
   "metadata": {
    "id": "Jrw76pbZEnBb"
   },
   "source": [
    "# 1. Exploração de Dados\n",
    "\n",
    "Carregue o dataset e faça uma inspeção nas 15 primeiras linhas para identificação básica dos atributos.\n"
   ]
  },
  {
   "cell_type": "code",
   "execution_count": 80,
   "metadata": {
    "id": "eboasUCqEnBc"
   },
   "outputs": [],
   "source": [
    "import seaborn as sns\n",
    "import matplotlib.pyplot as plt\n",
    "import pandas as pd\n",
    "import numpy as np\n",
    "\n",
    "%matplotlib inline"
   ]
  },
  {
   "cell_type": "code",
   "execution_count": 81,
   "metadata": {
    "id": "7v12O1ZgEnBe"
   },
   "outputs": [],
   "source": [
    "# Caminho do arquivo\n",
    "url = \"aptos.csv\"\n",
    "\n",
    "# Lê e carrega o arquivo para a memória\n",
    "df = pd.read_csv(url)"
   ]
  },
  {
   "cell_type": "code",
   "execution_count": 82,
   "metadata": {
    "colab": {
     "base_uri": "https://localhost:8080/",
     "height": 206
    },
    "id": "103GIGy8zNJH",
    "outputId": "40b64fd3-80db-4bb4-c175-da062a5e8dbf"
   },
   "outputs": [
    {
     "data": {
      "text/html": [
       "<div>\n",
       "<style scoped>\n",
       "    .dataframe tbody tr th:only-of-type {\n",
       "        vertical-align: middle;\n",
       "    }\n",
       "\n",
       "    .dataframe tbody tr th {\n",
       "        vertical-align: top;\n",
       "    }\n",
       "\n",
       "    .dataframe thead th {\n",
       "        text-align: right;\n",
       "    }\n",
       "</style>\n",
       "<table border=\"1\" class=\"dataframe\">\n",
       "  <thead>\n",
       "    <tr style=\"text-align: right;\">\n",
       "      <th></th>\n",
       "      <th>metros</th>\n",
       "      <th>valor</th>\n",
       "      <th>quartos</th>\n",
       "      <th>vagas</th>\n",
       "      <th>reformado</th>\n",
       "      <th>bairro</th>\n",
       "    </tr>\n",
       "  </thead>\n",
       "  <tbody>\n",
       "    <tr>\n",
       "      <th>0</th>\n",
       "      <td>107</td>\n",
       "      <td>560</td>\n",
       "      <td>3</td>\n",
       "      <td>2</td>\n",
       "      <td>0</td>\n",
       "      <td>Vila Lusitania</td>\n",
       "    </tr>\n",
       "    <tr>\n",
       "      <th>1</th>\n",
       "      <td>107</td>\n",
       "      <td>555</td>\n",
       "      <td>3</td>\n",
       "      <td>2</td>\n",
       "      <td>1</td>\n",
       "      <td>Vila Lusitania</td>\n",
       "    </tr>\n",
       "    <tr>\n",
       "      <th>2</th>\n",
       "      <td>49</td>\n",
       "      <td>196</td>\n",
       "      <td>2</td>\n",
       "      <td>1</td>\n",
       "      <td>0</td>\n",
       "      <td>Ferrazopolis</td>\n",
       "    </tr>\n",
       "    <tr>\n",
       "      <th>3</th>\n",
       "      <td>104</td>\n",
       "      <td>515</td>\n",
       "      <td>3</td>\n",
       "      <td>2</td>\n",
       "      <td>1</td>\n",
       "      <td>Centro</td>\n",
       "    </tr>\n",
       "    <tr>\n",
       "      <th>4</th>\n",
       "      <td>92</td>\n",
       "      <td>560</td>\n",
       "      <td>3</td>\n",
       "      <td>2</td>\n",
       "      <td>1</td>\n",
       "      <td>Vila Lusitania</td>\n",
       "    </tr>\n",
       "    <tr>\n",
       "      <th>5</th>\n",
       "      <td>51</td>\n",
       "      <td>249</td>\n",
       "      <td>2</td>\n",
       "      <td>1</td>\n",
       "      <td>0</td>\n",
       "      <td>Taboao</td>\n",
       "    </tr>\n",
       "    <tr>\n",
       "      <th>6</th>\n",
       "      <td>140</td>\n",
       "      <td>635</td>\n",
       "      <td>4</td>\n",
       "      <td>3</td>\n",
       "      <td>1</td>\n",
       "      <td>Centro</td>\n",
       "    </tr>\n",
       "    <tr>\n",
       "      <th>7</th>\n",
       "      <td>50</td>\n",
       "      <td>210</td>\n",
       "      <td>2</td>\n",
       "      <td>1</td>\n",
       "      <td>1</td>\n",
       "      <td>Demarchi</td>\n",
       "    </tr>\n",
       "    <tr>\n",
       "      <th>8</th>\n",
       "      <td>93</td>\n",
       "      <td>450</td>\n",
       "      <td>3</td>\n",
       "      <td>2</td>\n",
       "      <td>0</td>\n",
       "      <td>Baeta Neves</td>\n",
       "    </tr>\n",
       "    <tr>\n",
       "      <th>9</th>\n",
       "      <td>107</td>\n",
       "      <td>425</td>\n",
       "      <td>3</td>\n",
       "      <td>2</td>\n",
       "      <td>1</td>\n",
       "      <td>Rudge Ramos</td>\n",
       "    </tr>\n",
       "    <tr>\n",
       "      <th>10</th>\n",
       "      <td>100</td>\n",
       "      <td>422</td>\n",
       "      <td>3</td>\n",
       "      <td>2</td>\n",
       "      <td>1</td>\n",
       "      <td>Baeta Neves</td>\n",
       "    </tr>\n",
       "    <tr>\n",
       "      <th>11</th>\n",
       "      <td>64</td>\n",
       "      <td>250</td>\n",
       "      <td>2</td>\n",
       "      <td>1</td>\n",
       "      <td>1</td>\n",
       "      <td>Pauliceia</td>\n",
       "    </tr>\n",
       "    <tr>\n",
       "      <th>12</th>\n",
       "      <td>65</td>\n",
       "      <td>350</td>\n",
       "      <td>2</td>\n",
       "      <td>2</td>\n",
       "      <td>1</td>\n",
       "      <td>Centro</td>\n",
       "    </tr>\n",
       "    <tr>\n",
       "      <th>13</th>\n",
       "      <td>71</td>\n",
       "      <td>303</td>\n",
       "      <td>3</td>\n",
       "      <td>1</td>\n",
       "      <td>0</td>\n",
       "      <td>Centro</td>\n",
       "    </tr>\n",
       "    <tr>\n",
       "      <th>14</th>\n",
       "      <td>64</td>\n",
       "      <td>294</td>\n",
       "      <td>3</td>\n",
       "      <td>1</td>\n",
       "      <td>0</td>\n",
       "      <td>Planalto</td>\n",
       "    </tr>\n",
       "  </tbody>\n",
       "</table>\n",
       "</div>"
      ],
      "text/plain": [
       "    metros  valor  quartos  vagas  reformado          bairro\n",
       "0      107    560        3      2          0  Vila Lusitania\n",
       "1      107    555        3      2          1  Vila Lusitania\n",
       "2       49    196        2      1          0    Ferrazopolis\n",
       "3      104    515        3      2          1          Centro\n",
       "4       92    560        3      2          1  Vila Lusitania\n",
       "5       51    249        2      1          0          Taboao\n",
       "6      140    635        4      3          1          Centro\n",
       "7       50    210        2      1          1        Demarchi\n",
       "8       93    450        3      2          0     Baeta Neves\n",
       "9      107    425        3      2          1     Rudge Ramos\n",
       "10     100    422        3      2          1     Baeta Neves\n",
       "11      64    250        2      1          1       Pauliceia\n",
       "12      65    350        2      2          1          Centro\n",
       "13      71    303        3      1          0          Centro\n",
       "14      64    294        3      1          0        Planalto"
      ]
     },
     "execution_count": 82,
     "metadata": {},
     "output_type": "execute_result"
    }
   ],
   "source": [
    "#head(): mostras as 15 primeiras linhas\n",
    "\n",
    "df.head(15)"
   ]
  },
  {
   "cell_type": "code",
   "execution_count": 83,
   "metadata": {
    "colab": {
     "base_uri": "https://localhost:8080/"
    },
    "id": "W_r1ePTEzcW3",
    "outputId": "11cd6f69-a42f-4c3a-da18-11e01f163a42"
   },
   "outputs": [
    {
     "name": "stdout",
     "output_type": "stream",
     "text": [
      "<class 'pandas.core.frame.DataFrame'>\n",
      "RangeIndex: 100 entries, 0 to 99\n",
      "Data columns (total 6 columns):\n",
      " #   Column     Non-Null Count  Dtype \n",
      "---  ------     --------------  ----- \n",
      " 0   metros     100 non-null    int64 \n",
      " 1   valor      100 non-null    int64 \n",
      " 2   quartos    100 non-null    int64 \n",
      " 3   vagas      100 non-null    int64 \n",
      " 4   reformado  100 non-null    int64 \n",
      " 5   bairro     100 non-null    object\n",
      "dtypes: int64(5), object(1)\n",
      "memory usage: 4.8+ KB\n"
     ]
    }
   ],
   "source": [
    "# Mostra informações sobre o dataframe em si\n",
    "\n",
    "#100 linhas / 100 valores não-nulos / 5 atributos do tipo int64 e 1 do tipo object\n",
    "df.info()"
   ]
  },
  {
   "cell_type": "code",
   "execution_count": 84,
   "metadata": {
    "colab": {
     "base_uri": "https://localhost:8080/",
     "height": 206
    },
    "id": "WgjQLsRYzrW4",
    "outputId": "e9f5a2f6-1a5c-4934-caa0-03d6119b9b61"
   },
   "outputs": [
    {
     "data": {
      "text/html": [
       "<div>\n",
       "<style scoped>\n",
       "    .dataframe tbody tr th:only-of-type {\n",
       "        vertical-align: middle;\n",
       "    }\n",
       "\n",
       "    .dataframe tbody tr th {\n",
       "        vertical-align: top;\n",
       "    }\n",
       "\n",
       "    .dataframe thead th {\n",
       "        text-align: right;\n",
       "    }\n",
       "</style>\n",
       "<table border=\"1\" class=\"dataframe\">\n",
       "  <thead>\n",
       "    <tr style=\"text-align: right;\">\n",
       "      <th></th>\n",
       "      <th>metros</th>\n",
       "      <th>valor</th>\n",
       "      <th>quartos</th>\n",
       "      <th>vagas</th>\n",
       "      <th>reformado</th>\n",
       "      <th>bairro</th>\n",
       "    </tr>\n",
       "  </thead>\n",
       "  <tbody>\n",
       "    <tr>\n",
       "      <th>95</th>\n",
       "      <td>100</td>\n",
       "      <td>422</td>\n",
       "      <td>3</td>\n",
       "      <td>2</td>\n",
       "      <td>1</td>\n",
       "      <td>Baeta Neves</td>\n",
       "    </tr>\n",
       "    <tr>\n",
       "      <th>96</th>\n",
       "      <td>105</td>\n",
       "      <td>659</td>\n",
       "      <td>3</td>\n",
       "      <td>2</td>\n",
       "      <td>1</td>\n",
       "      <td>Rudge Ramos</td>\n",
       "    </tr>\n",
       "    <tr>\n",
       "      <th>97</th>\n",
       "      <td>55</td>\n",
       "      <td>200</td>\n",
       "      <td>2</td>\n",
       "      <td>0</td>\n",
       "      <td>1</td>\n",
       "      <td>Iraja</td>\n",
       "    </tr>\n",
       "    <tr>\n",
       "      <th>98</th>\n",
       "      <td>53</td>\n",
       "      <td>220</td>\n",
       "      <td>2</td>\n",
       "      <td>1</td>\n",
       "      <td>1</td>\n",
       "      <td>Santa Teresinha</td>\n",
       "    </tr>\n",
       "    <tr>\n",
       "      <th>99</th>\n",
       "      <td>58</td>\n",
       "      <td>200</td>\n",
       "      <td>2</td>\n",
       "      <td>1</td>\n",
       "      <td>0</td>\n",
       "      <td>Santa Teresinha</td>\n",
       "    </tr>\n",
       "  </tbody>\n",
       "</table>\n",
       "</div>"
      ],
      "text/plain": [
       "    metros  valor  quartos  vagas  reformado           bairro\n",
       "95     100    422        3      2          1      Baeta Neves\n",
       "96     105    659        3      2          1      Rudge Ramos\n",
       "97      55    200        2      0          1            Iraja\n",
       "98      53    220        2      1          1  Santa Teresinha\n",
       "99      58    200        2      1          0  Santa Teresinha"
      ]
     },
     "execution_count": 84,
     "metadata": {},
     "output_type": "execute_result"
    }
   ],
   "source": [
    "#tail(): mostra as 5 últimas linhas\n",
    "\n",
    "df.tail()"
   ]
  },
  {
   "cell_type": "code",
   "execution_count": 85,
   "metadata": {
    "colab": {
     "base_uri": "https://localhost:8080/"
    },
    "id": "kYWMU0Dy0FJg",
    "outputId": "37abc436-fffb-4920-da94-6549d93ee405"
   },
   "outputs": [
    {
     "data": {
      "text/plain": [
       "(100, 6)"
      ]
     },
     "execution_count": 85,
     "metadata": {},
     "output_type": "execute_result"
    }
   ],
   "source": [
    "# exibe o shape (dimensoẽs) do dataframe -> (linhas,colunas)\n",
    "#Resposta: 100 linhas e 6 colunas\n",
    "\n",
    "df.shape"
   ]
  },
  {
   "cell_type": "code",
   "execution_count": 86,
   "metadata": {
    "colab": {
     "base_uri": "https://localhost:8080/"
    },
    "id": "aC0Zei9e1R3J",
    "outputId": "e4b4cb3b-c7a6-44ed-d857-7f4c387c515f"
   },
   "outputs": [
    {
     "name": "stdout",
     "output_type": "stream",
     "text": [
      "bairro\n",
      "Assuncao            9\n",
      "Baeta Neves        15\n",
      "Centro             29\n",
      "Demarchi            5\n",
      "Ferrazopolis        3\n",
      "Independencia       3\n",
      "Iraja               2\n",
      "Jardim do Mar       2\n",
      "Jordanopolis        1\n",
      "Nova Petropolis     3\n",
      "Pauliceia           2\n",
      "Piraporinha         1\n",
      "Planalto            4\n",
      "Rudge Ramos         8\n",
      "Santa Teresinha     3\n",
      "Taboao              4\n",
      "Vila Lusitania      6\n",
      "dtype: int64\n"
     ]
    }
   ],
   "source": [
    "# class distribution\n",
    "\n",
    "#mostra a distribuição dos valores nas classes\n",
    "print(df.groupby('bairro').size())"
   ]
  },
  {
   "cell_type": "code",
   "execution_count": 87,
   "metadata": {
    "colab": {
     "base_uri": "https://localhost:8080/",
     "height": 300
    },
    "id": "RYr5v8FA3RmB",
    "outputId": "01a0fb48-7ada-4589-9cdf-dfb8a025a7a5"
   },
   "outputs": [
    {
     "data": {
      "text/html": [
       "<div>\n",
       "<style scoped>\n",
       "    .dataframe tbody tr th:only-of-type {\n",
       "        vertical-align: middle;\n",
       "    }\n",
       "\n",
       "    .dataframe tbody tr th {\n",
       "        vertical-align: top;\n",
       "    }\n",
       "\n",
       "    .dataframe thead th {\n",
       "        text-align: right;\n",
       "    }\n",
       "</style>\n",
       "<table border=\"1\" class=\"dataframe\">\n",
       "  <thead>\n",
       "    <tr style=\"text-align: right;\">\n",
       "      <th></th>\n",
       "      <th>metros</th>\n",
       "      <th>valor</th>\n",
       "      <th>quartos</th>\n",
       "      <th>vagas</th>\n",
       "      <th>reformado</th>\n",
       "    </tr>\n",
       "  </thead>\n",
       "  <tbody>\n",
       "    <tr>\n",
       "      <th>count</th>\n",
       "      <td>100.000000</td>\n",
       "      <td>100.00000</td>\n",
       "      <td>100.000000</td>\n",
       "      <td>100.000000</td>\n",
       "      <td>100.000000</td>\n",
       "    </tr>\n",
       "    <tr>\n",
       "      <th>mean</th>\n",
       "      <td>80.280000</td>\n",
       "      <td>402.93000</td>\n",
       "      <td>2.590000</td>\n",
       "      <td>1.650000</td>\n",
       "      <td>0.540000</td>\n",
       "    </tr>\n",
       "    <tr>\n",
       "      <th>std</th>\n",
       "      <td>27.606206</td>\n",
       "      <td>171.43154</td>\n",
       "      <td>0.552222</td>\n",
       "      <td>0.687184</td>\n",
       "      <td>0.500908</td>\n",
       "    </tr>\n",
       "    <tr>\n",
       "      <th>min</th>\n",
       "      <td>43.000000</td>\n",
       "      <td>188.00000</td>\n",
       "      <td>2.000000</td>\n",
       "      <td>0.000000</td>\n",
       "      <td>0.000000</td>\n",
       "    </tr>\n",
       "    <tr>\n",
       "      <th>25%</th>\n",
       "      <td>56.750000</td>\n",
       "      <td>258.00000</td>\n",
       "      <td>2.000000</td>\n",
       "      <td>1.000000</td>\n",
       "      <td>0.000000</td>\n",
       "    </tr>\n",
       "    <tr>\n",
       "      <th>50%</th>\n",
       "      <td>72.000000</td>\n",
       "      <td>355.00000</td>\n",
       "      <td>3.000000</td>\n",
       "      <td>2.000000</td>\n",
       "      <td>1.000000</td>\n",
       "    </tr>\n",
       "    <tr>\n",
       "      <th>75%</th>\n",
       "      <td>100.000000</td>\n",
       "      <td>515.00000</td>\n",
       "      <td>3.000000</td>\n",
       "      <td>2.000000</td>\n",
       "      <td>1.000000</td>\n",
       "    </tr>\n",
       "    <tr>\n",
       "      <th>max</th>\n",
       "      <td>199.000000</td>\n",
       "      <td>880.00000</td>\n",
       "      <td>4.000000</td>\n",
       "      <td>4.000000</td>\n",
       "      <td>1.000000</td>\n",
       "    </tr>\n",
       "  </tbody>\n",
       "</table>\n",
       "</div>"
      ],
      "text/plain": [
       "           metros      valor     quartos       vagas   reformado\n",
       "count  100.000000  100.00000  100.000000  100.000000  100.000000\n",
       "mean    80.280000  402.93000    2.590000    1.650000    0.540000\n",
       "std     27.606206  171.43154    0.552222    0.687184    0.500908\n",
       "min     43.000000  188.00000    2.000000    0.000000    0.000000\n",
       "25%     56.750000  258.00000    2.000000    1.000000    0.000000\n",
       "50%     72.000000  355.00000    3.000000    2.000000    1.000000\n",
       "75%    100.000000  515.00000    3.000000    2.000000    1.000000\n",
       "max    199.000000  880.00000    4.000000    4.000000    1.000000"
      ]
     },
     "execution_count": 87,
     "metadata": {},
     "output_type": "execute_result"
    }
   ],
   "source": [
    "#describe(): resumo de cada  coluna númerica\n",
    "\n",
    "df.describe()"
   ]
  },
  {
   "cell_type": "markdown",
   "metadata": {
    "id": "Vwok27kVEnBf"
   },
   "source": [
    "### `Pergunta:` Apresente uma breve descrição do significado de cada atributo:\n",
    "\n",
    "Exemplo:\n",
    "- Idade: Idade em anos da pessoa\n",
    "- Marca: fabricante de carros\n",
    "- Combustivel: tipo de combustível (gasolina, disel...)\n",
    "- Especie: Tipo de flor iris-setosa, virginica... (Variável Alvo)\n",
    "\n",
    "\n",
    "\n",
    "\n"
   ]
  },
  {
   "cell_type": "markdown",
   "metadata": {
    "id": "S48qZORfEnBg"
   },
   "source": [
    "**Resposta:**\n",
    "\n",
    "- ..:.metro : metros de cada apartamento\n",
    "- ..:.valor : valor do apartamento\n",
    "- ..:.quartos : quantidade de quartos de cada apartamento\n",
    "- ..:.vagas : quantidade de vagas de estacionamento\n",
    "- ..:.reformado : se foi reformado 1 para sim e 0 para não\n",
    "- ..:.bairro : bairro onde esta localizado o apartamento."
   ]
  },
  {
   "cell_type": "markdown",
   "metadata": {
    "id": "VBQjnm8vEnBh"
   },
   "source": [
    "**Pergunta:** Cite 2 cenários que podem fazer sentido na leitura dos dados apresentados.\n",
    "\n",
    "Exemplo: \n",
    "- Eu acho que o preço da gasolina sobe com o preço do petróleo. \n",
    "- Eu acho que na média homens são mais altos que mulheres na mesma faixa etaria.  "
   ]
  },
  {
   "cell_type": "markdown",
   "metadata": {
    "id": "Zp80G6hHEnBi"
   },
   "source": [
    "**Resposta:**\n",
    "\n",
    "1. ...quanto maior o apartamento maior seu valor\n",
    "2. ...o número de apartamento reformados é maior que os não reformados"
   ]
  },
  {
   "cell_type": "markdown",
   "metadata": {
    "id": "VlNUKBMgEnBj"
   },
   "source": [
    "## 2. Análise descritiva de dados\n",
    "\n",
    "Faça uma análise exploratória dos dados. Utilize-se de gráficos e tabelas auxiliares, faça correlações entre os atributos.... Com o objetivo validar as afirmações levantadas acima."
   ]
  },
  {
   "cell_type": "markdown",
   "metadata": {
    "id": "iq-dywY3_yui"
   },
   "source": [
    "# **Cenário 1**\n",
    "**1 -** No gráfico que compara o valor(y) com metros(x) é possível analisar que quanto maior a metragem do apartamento,\n",
    "maior será seu valor. No entanto também é possível observar, que apartamentos do mesmo tamanho podem ter valores \n",
    "diferentes.\n",
    "\n",
    "# **Cenário 2**\n",
    "**2 -** No gráfico que compara o apartamento com ele mesmo, nota-se que o número de apartamentos reformados(1) é maior\n",
    "comparado ao de não reformados(0)."
   ]
  },
  {
   "cell_type": "code",
   "execution_count": 88,
   "metadata": {
    "colab": {
     "base_uri": "https://localhost:8080/",
     "height": 956
    },
    "id": "apflr7fcEnBk",
    "outputId": "e7de53fd-8586-4357-8e6a-f067b426e058",
    "scrolled": true
   },
   "outputs": [
    {
     "data": {
      "text/plain": [
       "<seaborn.axisgrid.PairGrid at 0x27527bfe5b0>"
      ]
     },
     "execution_count": 88,
     "metadata": {},
     "output_type": "execute_result"
    },
    {
     "data": {
      "image/png": "[encoded data removed]",
      "text/plain": [
       "<Figure size 900x900 with 30 Axes>"
      ]
     },
     "metadata": {
      "needs_background": "light"
     },
     "output_type": "display_data"
    }
   ],
   "source": [
    "#Seu Código aqui...\n",
    "sns.pairplot(df)\n"
   ]
  },
  {
   "cell_type": "code",
   "execution_count": 18,
   "metadata": {
    "colab": {
     "base_uri": "https://localhost:8080/",
     "height": 296
    },
    "id": "md1hjlgxEnBk",
    "outputId": "49b1699c-2ab8-45a4-ef67-df427d6c5671",
    "scrolled": false
   },
   "outputs": [
    {
     "data": {
      "text/plain": [
       "<AxesSubplot:xlabel='metros', ylabel='valor'>"
      ]
     },
     "execution_count": 18,
     "metadata": {},
     "output_type": "execute_result"
    },
    {
     "data": {
      "image/png": "[encoded data removed]",
      "text/plain": [
       "<Figure size 432x288 with 1 Axes>"
      ]
     },
     "metadata": {
      "needs_background": "light"
     },
     "output_type": "display_data"
    }
   ],
   "source": [
    "#Seu Código aqui...\n",
    "\n",
    "#Comparando metros(x) e valor(y)\n",
    "\n",
    "df.plot.scatter('metros', 'valor')\n",
    "\n"
   ]
  },
  {
   "cell_type": "code",
   "execution_count": 41,
   "metadata": {
    "colab": {
     "base_uri": "https://localhost:8080/",
     "height": 1000
    },
    "id": "zRCRQRW082eh",
    "outputId": "ba1cee7c-d1d1-4583-a12a-e564b3bb1be4",
    "scrolled": true
   },
   "outputs": [
    {
     "name": "stderr",
     "output_type": "stream",
     "text": [
      "d:\\users\\gabriel\\appdata\\local\\programs\\python\\python39\\lib\\site-packages\\seaborn\\distributions.py:306: UserWarning: Dataset has 0 variance; skipping density estimate.\n",
      "  warnings.warn(msg, UserWarning)\n",
      "d:\\users\\gabriel\\appdata\\local\\programs\\python\\python39\\lib\\site-packages\\seaborn\\distributions.py:306: UserWarning: Dataset has 0 variance; skipping density estimate.\n",
      "  warnings.warn(msg, UserWarning)\n",
      "d:\\users\\gabriel\\appdata\\local\\programs\\python\\python39\\lib\\site-packages\\seaborn\\distributions.py:306: UserWarning: Dataset has 0 variance; skipping density estimate.\n",
      "  warnings.warn(msg, UserWarning)\n",
      "d:\\users\\gabriel\\appdata\\local\\programs\\python\\python39\\lib\\site-packages\\seaborn\\distributions.py:306: UserWarning: Dataset has 0 variance; skipping density estimate.\n",
      "  warnings.warn(msg, UserWarning)\n"
     ]
    },
    {
     "data": {
      "image/png": "[encoded data removed]",
      "text/plain": [
       "<Figure size 1495x1440 with 20 Axes>"
      ]
     },
     "metadata": {
      "needs_background": "light"
     },
     "output_type": "display_data"
    }
   ],
   "source": [
    "# A cor vem do campo `valor` do dataframe\n",
    "sns.pairplot(df, hue='valor', height=5)\n",
    "plt.show()"
   ]
  },
  {
   "cell_type": "markdown",
   "metadata": {
    "id": "QFMnZ_R5EnBl"
   },
   "source": [
    "### __(BONUS: 1 ponto extra.)__ Análise de Outliers\n",
    "*Esse é um ponto extra, faça se quiser...\n",
    "\n",
    "Realize a análise e o tratamento de **outliers**, como referência para estudo:\n",
    "\n",
    "* [link1](https://machinelearningmastery.com/model-based-outlier-detection-and-removal-in-python/)\n",
    "* [link2](https://towardsdatascience.com/4-machine-learning-techniques-for-outlier-detection-in-python-21e9cfacb81d)\n",
    "* [link3](https://minerandodados.com.br/tratando-outliers-python/)\n",
    "\n",
    "**Pergunta:** Foram localizados outliers? Qual o método de análise adotado? Se existe, como os dados foram tratados (foram removidos ou mantidos)? "
   ]
  },
  {
   "cell_type": "markdown",
   "metadata": {
    "id": "aEBq3jZKEnBl"
   },
   "source": [
    "## 3. Desenvolvimento do Modelo"
   ]
  },
  {
   "cell_type": "markdown",
   "metadata": {
    "id": "wW2R15MjEnBm"
   },
   "source": [
    "**Pergunta:** O conjunto de dados indica a aplicação de qual modelo de aprendizagem de maquina para determinação do valor de um imóvel? Por que ? "
   ]
  },
  {
   "cell_type": "markdown",
   "metadata": {
    "id": "qV22-xMpEnBm"
   },
   "source": [
    "**Resposta:**\n",
    "\n",
    "    [ ] Aprendizado por reforço\n",
    "    [X] Aprendizado supervisionado\n",
    "    [ ] Aprendizado não supervisionado"
   ]
  },
  {
   "cell_type": "markdown",
   "metadata": {
    "id": "oijxNQnWEnBn"
   },
   "source": [
    "**Pergunta:** Qual a técnica sugerida para este projeto?"
   ]
  },
  {
   "cell_type": "markdown",
   "metadata": {
    "id": "7gfXFr3cEnBn"
   },
   "source": [
    "**Resposta:**\n",
    "\n",
    "    [X] Regressão\n",
    "    [ ] Classificação\n",
    "    [ ] Clusterização"
   ]
  },
  {
   "cell_type": "markdown",
   "metadata": {
    "id": "GCNZREN8EnBn"
   },
   "source": [
    "**Pergunta:** Escolha 2 modelos de algoritmos para testar a performance de cada um deles."
   ]
  },
  {
   "cell_type": "markdown",
   "metadata": {
    "id": "-JaS9wt1EnBo"
   },
   "source": [
    "**Resposta:**\n",
    "\n",
    "1. algoritimo ...Regressão Linear\n",
    "2. algoritimo ...Regressão Polinomial"
   ]
  },
  {
   "cell_type": "markdown",
   "metadata": {
    "id": "xwiwcazSEnBo"
   },
   "source": [
    "__(BONUS: 1 ponto extra.)__ **Pergunta:** Explique como cada algoritmo funciona.\n"
   ]
  },
  {
   "cell_type": "markdown",
   "metadata": {
    "id": "3d2zeM5MEnBo"
   },
   "source": [
    "**Resposta:**\n",
    "\n",
    "1. algoritimo ... Regressão Linear: É uma técnica que consiste em representar um conjunto de dados por meio de uma reta. A e B são constantes que determinam a posição e inclinação da reta. Para cada valor de X temos um Y associado.\n",
    "\n",
    "\n",
    "2. algoritimo ...Regressão Polinomial: A, B e C são constantes que determinam a posição e inclinação da curva, o 2 indica o grau do polinômio. Para cada valor de X temos um Y associado."
   ]
  },
  {
   "cell_type": "markdown",
   "metadata": {
    "id": "GCyIFM2-EnBp"
   },
   "source": [
    "## 4. Treinamento e teste do modelo"
   ]
  },
  {
   "cell_type": "markdown",
   "metadata": {
    "id": "VkZdTzXcEnBp"
   },
   "source": [
    "Crie um subset dos dados apenas com os atributos que serão utilizados para o treinameno e teste do modelo. Divida o subset em conjunto de treinamento e teste."
   ]
  },
  {
   "cell_type": "markdown",
   "metadata": {
    "id": "zAmwkQ8fEnBp"
   },
   "source": [
    "Faça o treinamento e teste dos 2 algoritmos escolhidos. Utilize uma métrica (ex. R2-score, RMSE e MAE...) para avaliar a performance dos modelos."
   ]
  },
  {
   "cell_type": "code",
   "execution_count": 67,
   "metadata": {
    "id": "HzfFs5RSEnBp"
   },
   "outputs": [
    {
     "name": "stdout",
     "output_type": "stream",
     "text": [
      "Formato das tabelas de dados (100, 4) e saidas (100,)\n"
     ]
    }
   ],
   "source": [
    "# Vamos treinar nosso modelo com 2 dois atributos independentes\n",
    "# para predizer o valor de saida\n",
    "X = df[['metros', 'quartos', 'vagas', 'reformado']]\n",
    "\n",
    "Y = df['valor']\n",
    "\n",
    "print(f\"Formato das tabelas de dados {X.shape} e saidas {Y.shape}\")"
   ]
  },
  {
   "cell_type": "markdown",
   "metadata": {
    "id": "FIgJ9zIpEnBq"
   },
   "source": [
    "### Algoritmo 1"
   ]
  },
  {
   "cell_type": "code",
   "execution_count": 68,
   "metadata": {
    "id": "NHdh-Lw2EnBq"
   },
   "outputs": [
    {
     "name": "stdout",
     "output_type": "stream",
     "text": [
      "(80, 4)\n",
      "(20, 4)\n",
      "(80,)\n",
      "(20,)\n"
     ]
    }
   ],
   "source": [
    "# Separamos 20% para o teste\n",
    "from sklearn.model_selection import train_test_split\n",
    "\n",
    "X_treino, X_teste, Y_treino, Y_teste = train_test_split(X, Y, test_size=0.2)\n",
    "\n",
    "print(X_treino.shape)\n",
    "print(X_teste.shape)\n",
    "print(Y_treino.shape)\n",
    "print(Y_teste.shape)"
   ]
  },
  {
   "cell_type": "code",
   "execution_count": 69,
   "metadata": {},
   "outputs": [
    {
     "data": {
      "text/html": [
       "<div>\n",
       "<style scoped>\n",
       "    .dataframe tbody tr th:only-of-type {\n",
       "        vertical-align: middle;\n",
       "    }\n",
       "\n",
       "    .dataframe tbody tr th {\n",
       "        vertical-align: top;\n",
       "    }\n",
       "\n",
       "    .dataframe thead th {\n",
       "        text-align: right;\n",
       "    }\n",
       "</style>\n",
       "<table border=\"1\" class=\"dataframe\">\n",
       "  <thead>\n",
       "    <tr style=\"text-align: right;\">\n",
       "      <th></th>\n",
       "      <th>metros</th>\n",
       "      <th>quartos</th>\n",
       "      <th>vagas</th>\n",
       "      <th>reformado</th>\n",
       "    </tr>\n",
       "  </thead>\n",
       "  <tbody>\n",
       "    <tr>\n",
       "      <th>28</th>\n",
       "      <td>55</td>\n",
       "      <td>2</td>\n",
       "      <td>1</td>\n",
       "      <td>0</td>\n",
       "    </tr>\n",
       "    <tr>\n",
       "      <th>13</th>\n",
       "      <td>71</td>\n",
       "      <td>3</td>\n",
       "      <td>1</td>\n",
       "      <td>0</td>\n",
       "    </tr>\n",
       "    <tr>\n",
       "      <th>27</th>\n",
       "      <td>71</td>\n",
       "      <td>2</td>\n",
       "      <td>1</td>\n",
       "      <td>0</td>\n",
       "    </tr>\n",
       "    <tr>\n",
       "      <th>43</th>\n",
       "      <td>71</td>\n",
       "      <td>3</td>\n",
       "      <td>2</td>\n",
       "      <td>0</td>\n",
       "    </tr>\n",
       "    <tr>\n",
       "      <th>80</th>\n",
       "      <td>86</td>\n",
       "      <td>3</td>\n",
       "      <td>2</td>\n",
       "      <td>0</td>\n",
       "    </tr>\n",
       "  </tbody>\n",
       "</table>\n",
       "</div>"
      ],
      "text/plain": [
       "    metros  quartos  vagas  reformado\n",
       "28      55        2      1          0\n",
       "13      71        3      1          0\n",
       "27      71        2      1          0\n",
       "43      71        3      2          0\n",
       "80      86        3      2          0"
      ]
     },
     "execution_count": 69,
     "metadata": {},
     "output_type": "execute_result"
    }
   ],
   "source": [
    "#Primeiras linhas do dataframe \n",
    "X_treino.head()"
   ]
  },
  {
   "cell_type": "code",
   "execution_count": 70,
   "metadata": {},
   "outputs": [
    {
     "data": {
      "text/plain": [
       "28    280\n",
       "13    303\n",
       "27    306\n",
       "43    304\n",
       "80    460\n",
       "Name: valor, dtype: int64"
      ]
     },
     "execution_count": 70,
     "metadata": {},
     "output_type": "execute_result"
    }
   ],
   "source": [
    "Y_treino.head()"
   ]
  },
  {
   "cell_type": "code",
   "execution_count": 71,
   "metadata": {},
   "outputs": [
    {
     "data": {
      "text/plain": [
       "LinearRegression()"
      ]
     },
     "execution_count": 71,
     "metadata": {},
     "output_type": "execute_result"
    }
   ],
   "source": [
    "# Importa a biblioteca\n",
    "from sklearn.linear_model import LinearRegression\n",
    "from sklearn.metrics import mean_squared_error\n",
    "\n",
    "# Cria o modelo de regressão \n",
    "lin_model = LinearRegression()\n",
    "\n",
    "# Cria o modelo de machine learning\n",
    "lin_model.fit(X_treino, Y_treino)"
   ]
  },
  {
   "cell_type": "code",
   "execution_count": 72,
   "metadata": {},
   "outputs": [
    {
     "name": "stdout",
     "output_type": "stream",
     "text": [
      "Predição usando regressão, retorna valores continuos: [ 550.83827098  377.79558071  254.30129536 1085.73690035  418.07925348\n",
      "  234.63329276  529.59994481  418.07925348  539.4339461   301.07229236\n",
      "  195.29728758  516.41926644  219.88229082  411.59192925  657.44196166\n",
      "  249.38429471  221.4526144   465.67893638  303.47130184  545.92127033]\n"
     ]
    }
   ],
   "source": [
    "# Para obter as previsões, basta chamar o método predict()\n",
    "y_teste_predito = lin_model.predict(X_teste)\n",
    "print(\"Predição usando regressão, retorna valores continuos: {}\".format(y_teste_predito))"
   ]
  },
  {
   "cell_type": "code",
   "execution_count": 73,
   "metadata": {},
   "outputs": [
    {
     "name": "stdout",
     "output_type": "stream",
     "text": [
      "(A) Intercepto:  -69.54470457614104\n",
      "(B) Inclinação:  [ 4.91700065  5.86466823 38.33495075 -6.48732423]\n",
      "Nossa equação é: Y_pred = -69.54 + 4.92 * X_LSTAT + 5.86 * X_RM\n"
     ]
    }
   ],
   "source": [
    "# vamos avaliar os parametros do nosso modelo\n",
    "print('(A) Intercepto: ', lin_model.intercept_)\n",
    "print('(B) Inclinação: ', lin_model.coef_)\n",
    "if len(lin_model.coef_)>1:\n",
    "    print('Nossa equação é: Y_pred = {} + {} * X_LSTAT + {} * X_RM'.format(lin_model.intercept_.round(2),lin_model.coef_[0].round(2),lin_model.coef_[1].round(2)) )\n",
    "else: \n",
    "        print('Nossa equação é: Y_pred = {} + {} * X_LSTAT'.format(lin_model.intercept_.round(2),lin_model.coef_[0].round(2)))\n"
   ]
  },
  {
   "cell_type": "code",
   "execution_count": 74,
   "metadata": {
    "scrolled": true
   },
   "outputs": [
    {
     "data": {
      "text/plain": [
       "Text(0, 0.5, 'Valor Predito')"
      ]
     },
     "execution_count": 74,
     "metadata": {},
     "output_type": "execute_result"
    },
    {
     "data": {
      "image/png": "[encoded data removed]",
      "text/plain": [
       "<Figure size 432x288 with 1 Axes>"
      ]
     },
     "metadata": {
      "needs_background": "light"
     },
     "output_type": "display_data"
    }
   ],
   "source": [
    "plt.scatter(Y_teste,y_teste_predito)\n",
    "plt.xlabel('Valor Real')\n",
    "plt.ylabel('Valor Predito')"
   ]
  },
  {
   "cell_type": "code",
   "execution_count": 75,
   "metadata": {},
   "outputs": [
    {
     "name": "stdout",
     "output_type": "stream",
     "text": [
      "Model: \"sequential_4\"\n",
      "_________________________________________________________________\n",
      " Layer (type)                Output Shape              Param #   \n",
      "=================================================================\n",
      " dense_4 (Dense)             (None, 1)                 2         \n",
      "                                                                 \n",
      "=================================================================\n",
      "Total params: 2\n",
      "Trainable params: 2\n",
      "Non-trainable params: 0\n",
      "_________________________________________________________________\n"
     ]
    }
   ],
   "source": [
    "import tensorflow as tf\n",
    "from tensorflow import keras\n",
    "from tensorflow.keras import layers\n",
    "\n",
    "X_train = df['valor']\n",
    "y_train = df['metros']\n",
    "\n",
    "model = keras.Sequential([\n",
    "    layers.Dense(units=1, input_shape=[1])\n",
    "])\n",
    "\n",
    "model.summary()"
   ]
  },
  {
   "cell_type": "code",
   "execution_count": 76,
   "metadata": {},
   "outputs": [],
   "source": [
    "model.compile(optimizer=tf.keras.optimizers.Adam(0.01), loss = 'mse')"
   ]
  },
  {
   "cell_type": "code",
   "execution_count": 77,
   "metadata": {
    "scrolled": true
   },
   "outputs": [
    {
     "name": "stdout",
     "output_type": "stream",
     "text": [
      "Epoch 1/200\n",
      "4/4 [==============================] - 0s 1ms/step - loss: 4719.9468\n",
      "Epoch 2/200\n",
      "4/4 [==============================] - 0s 2ms/step - loss: 2676.5166\n",
      "Epoch 3/200\n",
      "4/4 [==============================] - 0s 2ms/step - loss: 1326.7731\n",
      "Epoch 4/200\n",
      "4/4 [==============================] - 0s 1ms/step - loss: 541.8992\n",
      "Epoch 5/200\n",
      "4/4 [==============================] - 0s 2ms/step - loss: 216.8603\n",
      "Epoch 6/200\n",
      "4/4 [==============================] - 0s 2ms/step - loss: 190.1633\n",
      "Epoch 7/200\n",
      "4/4 [==============================] - 0s 1ms/step - loss: 273.9236\n",
      "Epoch 8/200\n",
      "4/4 [==============================] - 0s 2ms/step - loss: 318.8252\n",
      "Epoch 9/200\n",
      "4/4 [==============================] - 0s 997us/step - loss: 284.1374\n",
      "Epoch 10/200\n",
      "4/4 [==============================] - 0s 1ms/step - loss: 221.8446\n",
      "Epoch 11/200\n",
      "4/4 [==============================] - 0s 836us/step - loss: 186.2524\n",
      "Epoch 12/200\n",
      "4/4 [==============================] - 0s 1ms/step - loss: 178.8843\n",
      "Epoch 13/200\n",
      "4/4 [==============================] - 0s 2ms/step - loss: 185.0040\n",
      "Epoch 14/200\n",
      "4/4 [==============================] - 0s 997us/step - loss: 193.2224\n",
      "Epoch 15/200\n",
      "4/4 [==============================] - 0s 2ms/step - loss: 194.4672\n",
      "Epoch 16/200\n",
      "4/4 [==============================] - 0s 997us/step - loss: 190.5510\n",
      "Epoch 17/200\n",
      "4/4 [==============================] - 0s 2ms/step - loss: 184.7913\n",
      "Epoch 18/200\n",
      "4/4 [==============================] - 0s 997us/step - loss: 178.7296\n",
      "Epoch 19/200\n",
      "4/4 [==============================] - 0s 997us/step - loss: 176.2388\n",
      "Epoch 20/200\n",
      "4/4 [==============================] - 0s 1ms/step - loss: 174.8095\n",
      "Epoch 21/200\n",
      "4/4 [==============================] - 0s 997us/step - loss: 176.7143\n",
      "Epoch 22/200\n",
      "4/4 [==============================] - 0s 1ms/step - loss: 180.2918\n",
      "Epoch 23/200\n",
      "4/4 [==============================] - 0s 997us/step - loss: 181.8471\n",
      "Epoch 24/200\n",
      "4/4 [==============================] - 0s 997us/step - loss: 179.6701\n",
      "Epoch 25/200\n",
      "4/4 [==============================] - 0s 1ms/step - loss: 177.7037\n",
      "Epoch 26/200\n",
      "4/4 [==============================] - 0s 997us/step - loss: 174.4636\n",
      "Epoch 27/200\n",
      "4/4 [==============================] - 0s 1ms/step - loss: 177.1546\n",
      "Epoch 28/200\n",
      "4/4 [==============================] - 0s 997us/step - loss: 179.6866\n",
      "Epoch 29/200\n",
      "4/4 [==============================] - 0s 997us/step - loss: 179.1644\n",
      "Epoch 30/200\n",
      "4/4 [==============================] - 0s 1ms/step - loss: 176.1349\n",
      "Epoch 31/200\n",
      "4/4 [==============================] - 0s 998us/step - loss: 175.6319\n",
      "Epoch 32/200\n",
      "4/4 [==============================] - 0s 997us/step - loss: 175.6939\n",
      "Epoch 33/200\n",
      "4/4 [==============================] - 0s 1ms/step - loss: 176.2515\n",
      "Epoch 34/200\n",
      "4/4 [==============================] - 0s 997us/step - loss: 177.1177\n",
      "Epoch 35/200\n",
      "4/4 [==============================] - 0s 1ms/step - loss: 177.7729\n",
      "Epoch 36/200\n",
      "4/4 [==============================] - 0s 997us/step - loss: 177.3836\n",
      "Epoch 37/200\n",
      "4/4 [==============================] - 0s 1ms/step - loss: 177.0610\n",
      "Epoch 38/200\n",
      "4/4 [==============================] - 0s 1ms/step - loss: 177.5035\n",
      "Epoch 39/200\n",
      "4/4 [==============================] - 0s 997us/step - loss: 176.2599\n",
      "Epoch 40/200\n",
      "4/4 [==============================] - 0s 1ms/step - loss: 174.5681\n",
      "Epoch 41/200\n",
      "4/4 [==============================] - 0s 997us/step - loss: 174.1819\n",
      "Epoch 42/200\n",
      "4/4 [==============================] - 0s 997us/step - loss: 175.4498\n",
      "Epoch 43/200\n",
      "4/4 [==============================] - 0s 2ms/step - loss: 174.5805\n",
      "Epoch 44/200\n",
      "4/4 [==============================] - 0s 1ms/step - loss: 177.0872\n",
      "Epoch 45/200\n",
      "4/4 [==============================] - 0s 1ms/step - loss: 176.4222\n",
      "Epoch 46/200\n",
      "4/4 [==============================] - 0s 997us/step - loss: 174.8543\n",
      "Epoch 47/200\n",
      "4/4 [==============================] - 0s 997us/step - loss: 174.3908\n",
      "Epoch 48/200\n",
      "4/4 [==============================] - 0s 1ms/step - loss: 174.4012\n",
      "Epoch 49/200\n",
      "4/4 [==============================] - 0s 997us/step - loss: 173.9306\n",
      "Epoch 50/200\n",
      "4/4 [==============================] - 0s 1ms/step - loss: 176.9844\n",
      "Epoch 51/200\n",
      "4/4 [==============================] - 0s 1ms/step - loss: 175.5824\n",
      "Epoch 52/200\n",
      "4/4 [==============================] - 0s 997us/step - loss: 173.9382\n",
      "Epoch 53/200\n",
      "4/4 [==============================] - 0s 997us/step - loss: 173.7067\n",
      "Epoch 54/200\n",
      "4/4 [==============================] - 0s 997us/step - loss: 173.7194\n",
      "Epoch 55/200\n",
      "4/4 [==============================] - 0s 1ms/step - loss: 173.5523\n",
      "Epoch 56/200\n",
      "4/4 [==============================] - 0s 2ms/step - loss: 174.1454\n",
      "Epoch 57/200\n",
      "4/4 [==============================] - 0s 997us/step - loss: 173.9894\n",
      "Epoch 58/200\n",
      "4/4 [==============================] - 0s 1ms/step - loss: 173.7706\n",
      "Epoch 59/200\n",
      "4/4 [==============================] - 0s 1ms/step - loss: 173.5321\n",
      "Epoch 60/200\n",
      "4/4 [==============================] - 0s 1ms/step - loss: 173.5344\n",
      "Epoch 61/200\n",
      "4/4 [==============================] - 0s 2ms/step - loss: 173.3436\n",
      "Epoch 62/200\n",
      "4/4 [==============================] - 0s 997us/step - loss: 173.0166\n",
      "Epoch 63/200\n",
      "4/4 [==============================] - 0s 1ms/step - loss: 172.9309\n",
      "Epoch 64/200\n",
      "4/4 [==============================] - 0s 997us/step - loss: 173.5011\n",
      "Epoch 65/200\n",
      "4/4 [==============================] - 0s 997us/step - loss: 180.3848\n",
      "Epoch 66/200\n",
      "4/4 [==============================] - 0s 2ms/step - loss: 180.1602\n",
      "Epoch 67/200\n",
      "4/4 [==============================] - 0s 997us/step - loss: 169.1664\n",
      "Epoch 68/200\n",
      "4/4 [==============================] - 0s 1ms/step - loss: 177.8562\n",
      "Epoch 69/200\n",
      "4/4 [==============================] - 0s 998us/step - loss: 192.2834\n",
      "Epoch 70/200\n",
      "4/4 [==============================] - 0s 665us/step - loss: 182.8604\n",
      "Epoch 71/200\n",
      "4/4 [==============================] - 0s 1ms/step - loss: 174.5694\n",
      "Epoch 72/200\n",
      "4/4 [==============================] - 0s 997us/step - loss: 174.0006\n",
      "Epoch 73/200\n",
      "4/4 [==============================] - 0s 1ms/step - loss: 177.3053\n",
      "Epoch 74/200\n",
      "4/4 [==============================] - 0s 1ms/step - loss: 179.8118\n",
      "Epoch 75/200\n",
      "4/4 [==============================] - 0s 2ms/step - loss: 176.3331\n",
      "Epoch 76/200\n",
      "4/4 [==============================] - 0s 2ms/step - loss: 174.5707\n",
      "Epoch 77/200\n",
      "4/4 [==============================] - 0s 997us/step - loss: 181.9273\n",
      "Epoch 78/200\n",
      "4/4 [==============================] - 0s 1ms/step - loss: 187.7072\n",
      "Epoch 79/200\n",
      "4/4 [==============================] - 0s 997us/step - loss: 181.7222\n",
      "Epoch 80/200\n",
      "4/4 [==============================] - 0s 1ms/step - loss: 174.2170\n",
      "Epoch 81/200\n",
      "4/4 [==============================] - 0s 2ms/step - loss: 175.6783\n",
      "Epoch 82/200\n",
      "4/4 [==============================] - 0s 1ms/step - loss: 171.0777\n",
      "Epoch 83/200\n",
      "4/4 [==============================] - 0s 2ms/step - loss: 171.6860\n",
      "Epoch 84/200\n",
      "4/4 [==============================] - 0s 997us/step - loss: 174.8139\n",
      "Epoch 85/200\n",
      "4/4 [==============================] - 0s 1ms/step - loss: 171.8080\n",
      "Epoch 86/200\n",
      "4/4 [==============================] - 0s 1ms/step - loss: 171.7734\n",
      "Epoch 87/200\n",
      "4/4 [==============================] - 0s 997us/step - loss: 175.9575\n",
      "Epoch 88/200\n",
      "4/4 [==============================] - 0s 1ms/step - loss: 176.6246\n",
      "Epoch 89/200\n",
      "4/4 [==============================] - 0s 1ms/step - loss: 172.0925\n",
      "Epoch 90/200\n",
      "4/4 [==============================] - 0s 1ms/step - loss: 174.8598\n",
      "Epoch 91/200\n",
      "4/4 [==============================] - 0s 2ms/step - loss: 173.5489\n",
      "Epoch 92/200\n",
      "4/4 [==============================] - 0s 997us/step - loss: 171.2939\n",
      "Epoch 93/200\n",
      "4/4 [==============================] - 0s 1ms/step - loss: 170.6385\n",
      "Epoch 94/200\n",
      "4/4 [==============================] - 0s 1ms/step - loss: 170.7810\n",
      "Epoch 95/200\n",
      "4/4 [==============================] - 0s 1ms/step - loss: 174.3197\n",
      "Epoch 96/200\n",
      "4/4 [==============================] - 0s 2ms/step - loss: 172.6934\n",
      "Epoch 97/200\n",
      "4/4 [==============================] - 0s 997us/step - loss: 170.8173\n",
      "Epoch 98/200\n",
      "4/4 [==============================] - 0s 1ms/step - loss: 171.4840\n",
      "Epoch 99/200\n",
      "4/4 [==============================] - 0s 997us/step - loss: 171.9339\n",
      "Epoch 100/200\n",
      "4/4 [==============================] - 0s 1ms/step - loss: 171.1931\n",
      "Epoch 101/200\n"
     ]
    },
    {
     "name": "stdout",
     "output_type": "stream",
     "text": [
      "4/4 [==============================] - 0s 2ms/step - loss: 173.0656\n",
      "Epoch 102/200\n",
      "4/4 [==============================] - 0s 997us/step - loss: 171.2456\n",
      "Epoch 103/200\n",
      "4/4 [==============================] - 0s 998us/step - loss: 172.3335\n",
      "Epoch 104/200\n",
      "4/4 [==============================] - 0s 997us/step - loss: 174.1427\n",
      "Epoch 105/200\n",
      "4/4 [==============================] - 0s 2ms/step - loss: 172.2170\n",
      "Epoch 106/200\n",
      "4/4 [==============================] - 0s 1ms/step - loss: 172.2393\n",
      "Epoch 107/200\n",
      "4/4 [==============================] - 0s 997us/step - loss: 170.3009\n",
      "Epoch 108/200\n",
      "4/4 [==============================] - 0s 2ms/step - loss: 170.4663\n",
      "Epoch 109/200\n",
      "4/4 [==============================] - 0s 997us/step - loss: 172.3829\n",
      "Epoch 110/200\n",
      "4/4 [==============================] - 0s 2ms/step - loss: 174.9994\n",
      "Epoch 111/200\n",
      "4/4 [==============================] - 0s 997us/step - loss: 173.4043\n",
      "Epoch 112/200\n",
      "4/4 [==============================] - 0s 997us/step - loss: 171.2277\n",
      "Epoch 113/200\n",
      "4/4 [==============================] - 0s 1ms/step - loss: 167.8155\n",
      "Epoch 114/200\n",
      "4/4 [==============================] - 0s 997us/step - loss: 182.3961\n",
      "Epoch 115/200\n",
      "4/4 [==============================] - 0s 997us/step - loss: 192.4441\n",
      "Epoch 116/200\n",
      "4/4 [==============================] - 0s 997us/step - loss: 177.1384\n",
      "Epoch 117/200\n",
      "4/4 [==============================] - 0s 997us/step - loss: 169.9033\n",
      "Epoch 118/200\n",
      "4/4 [==============================] - 0s 1ms/step - loss: 174.3327\n",
      "Epoch 119/200\n",
      "4/4 [==============================] - 0s 1ms/step - loss: 172.6376\n",
      "Epoch 120/200\n",
      "4/4 [==============================] - 0s 997us/step - loss: 170.0481\n",
      "Epoch 121/200\n",
      "4/4 [==============================] - 0s 1ms/step - loss: 171.7800\n",
      "Epoch 122/200\n",
      "4/4 [==============================] - 0s 997us/step - loss: 173.9840\n",
      "Epoch 123/200\n",
      "4/4 [==============================] - 0s 1ms/step - loss: 174.7886\n",
      "Epoch 124/200\n",
      "4/4 [==============================] - 0s 2ms/step - loss: 175.1116\n",
      "Epoch 125/200\n",
      "4/4 [==============================] - 0s 1ms/step - loss: 170.1778\n",
      "Epoch 126/200\n",
      "4/4 [==============================] - 0s 2ms/step - loss: 171.0746\n",
      "Epoch 127/200\n",
      "4/4 [==============================] - 0s 997us/step - loss: 169.5029\n",
      "Epoch 128/200\n",
      "4/4 [==============================] - 0s 2ms/step - loss: 169.3001\n",
      "Epoch 129/200\n",
      "4/4 [==============================] - 0s 2ms/step - loss: 168.5012\n",
      "Epoch 130/200\n",
      "4/4 [==============================] - 0s 1ms/step - loss: 168.3502\n",
      "Epoch 131/200\n",
      "4/4 [==============================] - 0s 1ms/step - loss: 169.5659\n",
      "Epoch 132/200\n",
      "4/4 [==============================] - 0s 997us/step - loss: 168.3368\n",
      "Epoch 133/200\n",
      "4/4 [==============================] - 0s 1ms/step - loss: 168.3700\n",
      "Epoch 134/200\n",
      "4/4 [==============================] - 0s 997us/step - loss: 168.5507\n",
      "Epoch 135/200\n",
      "4/4 [==============================] - 0s 1ms/step - loss: 168.2577\n",
      "Epoch 136/200\n",
      "4/4 [==============================] - 0s 1ms/step - loss: 168.3526\n",
      "Epoch 137/200\n",
      "4/4 [==============================] - 0s 1ms/step - loss: 168.5786\n",
      "Epoch 138/200\n",
      "4/4 [==============================] - 0s 1ms/step - loss: 168.2508\n",
      "Epoch 139/200\n",
      "4/4 [==============================] - 0s 997us/step - loss: 167.3822\n",
      "Epoch 140/200\n",
      "4/4 [==============================] - 0s 997us/step - loss: 176.6064\n",
      "Epoch 141/200\n",
      "4/4 [==============================] - 0s 2ms/step - loss: 178.2050\n",
      "Epoch 142/200\n",
      "4/4 [==============================] - 0s 997us/step - loss: 168.0737\n",
      "Epoch 143/200\n",
      "4/4 [==============================] - 0s 1ms/step - loss: 169.9911\n",
      "Epoch 144/200\n",
      "4/4 [==============================] - 0s 997us/step - loss: 175.4976\n",
      "Epoch 145/200\n",
      "4/4 [==============================] - 0s 997us/step - loss: 174.0768\n",
      "Epoch 146/200\n",
      "4/4 [==============================] - 0s 997us/step - loss: 169.5524\n",
      "Epoch 147/200\n",
      "4/4 [==============================] - 0s 998us/step - loss: 167.8168\n",
      "Epoch 148/200\n",
      "4/4 [==============================] - 0s 997us/step - loss: 171.5124\n",
      "Epoch 149/200\n",
      "4/4 [==============================] - 0s 2ms/step - loss: 171.7719\n",
      "Epoch 150/200\n",
      "4/4 [==============================] - 0s 997us/step - loss: 169.4750\n",
      "Epoch 151/200\n",
      "4/4 [==============================] - 0s 997us/step - loss: 167.8613\n",
      "Epoch 152/200\n",
      "4/4 [==============================] - 0s 997us/step - loss: 165.8819\n",
      "Epoch 153/200\n",
      "4/4 [==============================] - 0s 997us/step - loss: 167.2787\n",
      "Epoch 154/200\n",
      "4/4 [==============================] - 0s 1ms/step - loss: 169.9238\n",
      "Epoch 155/200\n",
      "4/4 [==============================] - 0s 1ms/step - loss: 169.1152\n",
      "Epoch 156/200\n",
      "4/4 [==============================] - 0s 1ms/step - loss: 167.5450\n",
      "Epoch 157/200\n",
      "4/4 [==============================] - 0s 997us/step - loss: 165.0443\n",
      "Epoch 158/200\n",
      "4/4 [==============================] - 0s 997us/step - loss: 171.4224\n",
      "Epoch 159/200\n",
      "4/4 [==============================] - 0s 1ms/step - loss: 187.0036\n",
      "Epoch 160/200\n",
      "4/4 [==============================] - 0s 1ms/step - loss: 177.0551\n",
      "Epoch 161/200\n",
      "4/4 [==============================] - 0s 1ms/step - loss: 164.1811\n",
      "Epoch 162/200\n",
      "4/4 [==============================] - 0s 1ms/step - loss: 176.7532\n",
      "Epoch 163/200\n",
      "4/4 [==============================] - 0s 997us/step - loss: 179.8160\n",
      "Epoch 164/200\n",
      "4/4 [==============================] - 0s 1ms/step - loss: 175.8601\n",
      "Epoch 165/200\n",
      "4/4 [==============================] - 0s 997us/step - loss: 167.0070\n",
      "Epoch 166/200\n",
      "4/4 [==============================] - 0s 1ms/step - loss: 165.2733\n",
      "Epoch 167/200\n",
      "4/4 [==============================] - 0s 2ms/step - loss: 168.7237\n",
      "Epoch 168/200\n",
      "4/4 [==============================] - 0s 1ms/step - loss: 166.6081\n",
      "Epoch 169/200\n",
      "4/4 [==============================] - 0s 2ms/step - loss: 165.0949\n",
      "Epoch 170/200\n",
      "4/4 [==============================] - 0s 1ms/step - loss: 165.7378\n",
      "Epoch 171/200\n",
      "4/4 [==============================] - 0s 2ms/step - loss: 165.6547\n",
      "Epoch 172/200\n",
      "4/4 [==============================] - 0s 2ms/step - loss: 167.8615\n",
      "Epoch 173/200\n",
      "4/4 [==============================] - 0s 2ms/step - loss: 168.2891\n",
      "Epoch 174/200\n",
      "4/4 [==============================] - 0s 1ms/step - loss: 165.3467\n",
      "Epoch 175/200\n",
      "4/4 [==============================] - 0s 1ms/step - loss: 166.3966\n",
      "Epoch 176/200\n",
      "4/4 [==============================] - 0s 2ms/step - loss: 165.5176\n",
      "Epoch 177/200\n",
      "4/4 [==============================] - 0s 1ms/step - loss: 164.3225\n",
      "Epoch 178/200\n",
      "4/4 [==============================] - 0s 2ms/step - loss: 165.4473\n",
      "Epoch 179/200\n",
      "4/4 [==============================] - 0s 2ms/step - loss: 165.0671\n",
      "Epoch 180/200\n",
      "4/4 [==============================] - 0s 2ms/step - loss: 163.9821\n",
      "Epoch 181/200\n",
      "4/4 [==============================] - 0s 2ms/step - loss: 164.5217\n",
      "Epoch 182/200\n",
      "4/4 [==============================] - 0s 2ms/step - loss: 164.8386\n",
      "Epoch 183/200\n",
      "4/4 [==============================] - 0s 2ms/step - loss: 164.6572\n",
      "Epoch 184/200\n",
      "4/4 [==============================] - 0s 2ms/step - loss: 164.1245\n",
      "Epoch 185/200\n",
      "4/4 [==============================] - 0s 1ms/step - loss: 172.3617\n",
      "Epoch 186/200\n",
      "4/4 [==============================] - 0s 2ms/step - loss: 168.7473\n",
      "Epoch 187/200\n",
      "4/4 [==============================] - 0s 997us/step - loss: 164.0098\n",
      "Epoch 188/200\n",
      "4/4 [==============================] - 0s 1ms/step - loss: 172.8421\n",
      "Epoch 189/200\n",
      "4/4 [==============================] - 0s 998us/step - loss: 177.1392\n",
      "Epoch 190/200\n",
      "4/4 [==============================] - 0s 997us/step - loss: 167.3358\n",
      "Epoch 191/200\n",
      "4/4 [==============================] - 0s 2ms/step - loss: 163.2699\n",
      "Epoch 192/200\n",
      "4/4 [==============================] - 0s 997us/step - loss: 167.2955\n",
      "Epoch 193/200\n",
      "4/4 [==============================] - 0s 1ms/step - loss: 167.1777\n",
      "Epoch 194/200\n",
      "4/4 [==============================] - 0s 1ms/step - loss: 164.7420\n",
      "Epoch 195/200\n",
      "4/4 [==============================] - 0s 1ms/step - loss: 168.9232\n",
      "Epoch 196/200\n",
      "4/4 [==============================] - 0s 2ms/step - loss: 164.0816\n",
      "Epoch 197/200\n",
      "4/4 [==============================] - 0s 997us/step - loss: 163.8034\n",
      "Epoch 198/200\n",
      "4/4 [==============================] - 0s 1ms/step - loss: 165.7421\n",
      "Epoch 199/200\n",
      "4/4 [==============================] - 0s 997us/step - loss: 168.7926\n",
      "Epoch 200/200\n"
     ]
    },
    {
     "name": "stdout",
     "output_type": "stream",
     "text": [
      "4/4 [==============================] - 0s 997us/step - loss: 172.8499\n"
     ]
    }
   ],
   "source": [
    "epochs_hist = model.fit(X_train, y_train, epochs=200)"
   ]
  },
  {
   "cell_type": "code",
   "execution_count": 78,
   "metadata": {},
   "outputs": [
    {
     "data": {
      "image/png": "[encoded data removed]",
      "text/plain": [
       "<Figure size 432x288 with 1 Axes>"
      ]
     },
     "metadata": {
      "needs_background": "light"
     },
     "output_type": "display_data"
    }
   ],
   "source": [
    "from sklearn.metrics import mean_squared_error, mean_absolute_error, r2_score\n",
    "from scipy.stats import pearsonr\n",
    "\n",
    "# plot prediction and actual data\n",
    "y_teste_predito = lin_model.predict(X_teste)\n",
    "\n",
    "plt.plot(Y_teste, y_teste_predito, '.')\n",
    "\n",
    "# plot a line, a perfit predict would all fall on this line\n",
    "#x = np.linspace(0, 50, 100)\n",
    "#y = x\n",
    "#plt.plot(x, y)\n",
    "plt.plot(X_train, model.predict(X_train), color = 'red')\n",
    "plt.show()"
   ]
  },
  {
   "cell_type": "code",
   "execution_count": 79,
   "metadata": {},
   "outputs": [
    {
     "name": "stdout",
     "output_type": "stream",
     "text": [
      "Soma dos Erros ao Quadrado (SSE): 157604 \n",
      "Erro Quadrático Médio (MSE): 7880.22\n",
      "Erro Médio Absoluto (MAE): 62.63\n",
      "Raiz do Erro Quadrático Médio (RMSE): 88.77 \n",
      "R2-score: 0.81\n"
     ]
    }
   ],
   "source": [
    "from sklearn.metrics import r2_score, mean_squared_error,mean_absolute_error\n",
    "import numpy as np\n",
    "\n",
    "print(\"Soma dos Erros ao Quadrado (SSE): %2.f \" % np.sum((y_teste_predito - Y_teste)**2))\n",
    "print(\"Erro Quadrático Médio (MSE): %.2f\" % mean_squared_error(Y_teste, y_teste_predito))\n",
    "print(\"Erro Médio Absoluto (MAE): %.2f\" % mean_absolute_error(Y_teste, y_teste_predito))\n",
    "print (\"Raiz do Erro Quadrático Médio (RMSE): %.2f \" % np.sqrt(mean_squared_error(Y_teste, y_teste_predito)))\n",
    "print(\"R2-score: %.2f\" % r2_score(y_teste_predito , Y_teste) )"
   ]
  },
  {
   "cell_type": "markdown",
   "metadata": {
    "id": "EKn6sHPLEnBq"
   },
   "source": [
    "### Algoritmo 2"
   ]
  },
  {
   "cell_type": "code",
   "execution_count": 89,
   "metadata": {
    "id": "rhYgY1pAEnBq"
   },
   "outputs": [
    {
     "name": "stdout",
     "output_type": "stream",
     "text": [
      "Soma dos Erros ao Quadrado (SSE): 374884 \n",
      "Erro Quadrático Médio (MSE): 3748.84\n",
      "Erro Médio Absoluto (MAE): 48.70\n",
      "Raiz do Erro Quadrático Médio (RMSE): 61.23 \n",
      "R2-score: 0.87\n"
     ]
    },
    {
     "data": {
      "image/png": "[encoded data removed]",
      "text/plain": [
       "<Figure size 432x288 with 1 Axes>"
      ]
     },
     "metadata": {
      "needs_background": "light"
     },
     "output_type": "display_data"
    }
   ],
   "source": [
    "#Seu Código aqui...\n",
    "#Regressão Polinomial\n",
    "\n",
    "import operator\n",
    "\n",
    "import numpy as np\n",
    "import matplotlib.pyplot as plt\n",
    "\n",
    "from sklearn.linear_model import LinearRegression\n",
    "from sklearn.metrics import mean_squared_error, r2_score, mean_absolute_error\n",
    "\n",
    "# importa feature polinomial\n",
    "from sklearn.preprocessing import PolynomialFeatures\n",
    "\n",
    "# ajuste nos dados, pois estamos trabalhando com a numpy \n",
    "x = df[['metros']]\n",
    "y = df['valor']\n",
    "\n",
    "#----É aqui que o seu código muda\n",
    "\n",
    "# Chama a função definindo o grau do polinomio e aplica o modelo\n",
    "polynomial_features= PolynomialFeatures(degree=3)\n",
    "x_poly = polynomial_features.fit_transform(x)\n",
    "\n",
    "#----Pronto agora é tudo como era antes, com regressão linear\n",
    "\n",
    "\n",
    "model = LinearRegression()\n",
    "model.fit(x_poly, y)\n",
    "y_poly_pred = model.predict(x_poly)\n",
    "\n",
    "# Métrica de avaliação do modelo\n",
    "print(\"Soma dos Erros ao Quadrado (SSE): %2.f \" % np.sum((y_poly_pred - y)**2))\n",
    "print(\"Erro Quadrático Médio (MSE): %.2f\" % mean_squared_error(y,y_poly_pred))\n",
    "print(\"Erro Médio Absoluto (MAE): %.2f\" % mean_absolute_error(y, y_poly_pred))\n",
    "print (\"Raiz do Erro Quadrático Médio (RMSE): %.2f \" % np.sqrt(mean_squared_error(y, y_poly_pred)))\n",
    "print(\"R2-score: %.2f\" % r2_score(y,y_poly_pred) )\n",
    "\n",
    "\n",
    "plt.scatter(x, y, s=10)\n",
    "# ordena os valores de x antes de plotar\n",
    "sort_axis = operator.itemgetter(0)\n",
    "sorted_zip = sorted(zip(x,y_poly_pred), key=sort_axis)\n",
    "x, y_poly_pred = zip(*sorted_zip)\n",
    "\n",
    "plt.plot(x, y_poly_pred, color='m')\n",
    "plt.show()"
   ]
  },
  {
   "cell_type": "markdown",
   "metadata": {
    "id": "iMhimFG6EnBq"
   },
   "source": [
    "Sumarize na tabela abaixo os resultados obtidos para os conjuntos de dados de treino e de teste"
   ]
  },
  {
   "cell_type": "markdown",
   "metadata": {
    "id": "Emdn0twUEnBr"
   },
   "source": [
    "**Resposta:**\n",
    "\n",
    "|    | algoritmo1 | algoritmo2 |\n",
    "|:---:|:---:|:---:|\n",
    "| treino | X | X |\n",
    "| teste  | X | X |"
   ]
  },
  {
   "cell_type": "markdown",
   "metadata": {
    "id": "6GRyUOHQEnBr"
   },
   "source": [
    "**Pergunta:** Qual dos algoritmos obteve um resultado melhor? Justifique\n",
    "\n",
    "**Resposta:** De acordo com a escala R² de performance, em quanto mais próximo de 1 melhor, é possível observar que o algoritmo2 teve um resultado melhor."
   ]
  },
  {
   "cell_type": "markdown",
   "metadata": {
    "id": "CSV86VhSEnBr"
   },
   "source": [
    "## Modelo de produção: Teste com novos dados\n",
    "\n",
    "Use seu modelo treinado para determinar: \n",
    "\n",
    "**`Quanto vale um apartamento de 65m2 com 2 quartos, 2 vagas, reformado no Centro?`**"
   ]
  },
  {
   "cell_type": "code",
   "execution_count": 90,
   "metadata": {
    "id": "NC-SxVDeEnBr"
   },
   "outputs": [
    {
     "name": "stdout",
     "output_type": "stream",
     "text": [
      "    metros  valor  quartos  vagas  reformado  bairro\n",
      "12      65    350        2      2          1  Centro\n"
     ]
    }
   ],
   "source": [
    "#Seu Código aqui...\n",
    "\n",
    "print(df.query('bairro==\"Centro\" & metros == 65 & quartos == 2 & vagas == 2 & reformado == 1'))\n",
    "\n"
   ]
  },
  {
   "cell_type": "markdown",
   "metadata": {},
   "source": [
    "Resposta: Um apartamento de 65m2 com 2 quartos, 2 vagas, reformado no Centro custa R$350.000"
   ]
  },
  {
   "cell_type": "markdown",
   "metadata": {
    "id": "E63qRRafEnBs"
   },
   "source": [
    "## 5. Conclusões finais\n",
    "\n",
    "Ufa!!... Chegamos ao final. Parabéns! De forma simplificada e completa, passamos por todas as etapas de um projeto de aprendizado de maquina. Outras etapas podem ser adicionadas no tratamento dos dados e desenvolvimento do modelo.\n"
   ]
  },
  {
   "cell_type": "markdown",
   "metadata": {
    "id": "FDQj8s1BEnBs"
   },
   "source": [
    "**Pergunta:**: O modelo desenvolvido obteve um resultado satisfatório? Justifique:\n",
    "\n",
    "**Resposta**: Não, pois não conseguimos visualizar muito bem o que podemos aprender com as informações geradas pelo modelo desenvolvido."
   ]
  },
  {
   "cell_type": "markdown",
   "metadata": {
    "id": "fGAi3gxnEnBs"
   },
   "source": [
    "**Pergunta:**: O que faria diferente para melhorar resultado obtido? Justifique:\n",
    "\n",
    "**Resposta**: Poderiamos tentar usar outros modelos e gráficos.\n",
    "\n",
    "\n",
    "\n",
    "\n"
   ]
  },
  {
   "cell_type": "code",
   "execution_count": null,
   "metadata": {},
   "outputs": [],
   "source": []
  }
 ],
 "metadata": {
  "colab": {
   "name": "Cópia de CheckPoint.ipynb",
   "provenance": [],
   "toc_visible": true
  },
  "interpreter": {
   "hash": "916dbcbb3f70747c44a77c7bcd40155683ae19c65e1c03b4aa3499c5328201f1"
  },
  "kernelspec": {
   "display_name": "Python 3 (ipykernel)",
   "language": "python",
   "name": "python3"
  },
  "language_info": {
   "codemirror_mode": {
    "name": "ipython",
    "version": 3
   },
   "file_extension": ".py",
   "mimetype": "text/x-python",
   "name": "python",
   "nbconvert_exporter": "python",
   "pygments_lexer": "ipython3",
   "version": "3.9.2"
  }
 },
 "nbformat": 4,
 "nbformat_minor": 1
}
